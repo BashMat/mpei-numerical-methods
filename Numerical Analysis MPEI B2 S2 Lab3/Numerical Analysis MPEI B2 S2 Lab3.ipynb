{
 "cells": [
  {
   "cell_type": "code",
   "execution_count": 10,
   "metadata": {},
   "outputs": [
    {
     "name": "stdout",
     "output_type": "stream",
     "text": [
      "A:\n",
      "[[0.01428571 0.01449275 0.01470588 0.01492537 0.01515152]\n",
      " [0.01492537 0.01515152 0.01538462 0.015625   0.01587302]\n",
      " [0.015625   0.01587302 0.01612903 0.01639344 0.01666667]\n",
      " [0.01639344 0.01666667 0.01694915 0.01724138 0.01754386]\n",
      " [0.01724138 0.01754386 0.01785714 0.01818182 0.01851852]]\n",
      "\n",
      "A error:\n",
      "[[0.01528571 0.01449275 0.01470588 0.01492537 0.01515152]\n",
      " [0.01492537 0.01515152 0.01538462 0.015625   0.01587302]\n",
      " [0.015625   0.01587302 0.01612903 0.01639344 0.01666667]\n",
      " [0.01639344 0.01666667 0.01694915 0.01724138 0.01754386]\n",
      " [0.01724138 0.01754386 0.01785714 0.01818182 0.01851852]]\n",
      "\n",
      "x:\n",
      "[12 12 12 12 12]\n",
      "\n",
      "b:\n",
      "[0.88273486 0.92351423 0.96824589 1.01753401 1.07211262]\n",
      "\n"
     ]
    }
   ],
   "source": [
    "import numpy as np\n",
    "import matplotlib as plt\n",
    "import scipy as sp\n",
    "\n",
    "# matrix A\n",
    "A = np.fromfunction(lambda i, j: (1 / (70 - 3*i - j)), (5,5))\n",
    "print('A:')\n",
    "print(A)\n",
    "print()\n",
    "\n",
    "# matrix A error\n",
    "A_err = np.copy(A)\n",
    "A_err[0][0] += 10**(-3)\n",
    "print('A error:')\n",
    "print(A_err)\n",
    "print()\n",
    "\n",
    "# vector x\n",
    "x = np.array([12] * 5)\n",
    "print('x:')\n",
    "print(x)\n",
    "print()\n",
    "\n",
    "# vector b\n",
    "b = A @ x\n",
    "print('b:')\n",
    "print(b)\n",
    "print()\n",
    "\n",
    "# vector b error\n",
    "b_err = b\n",
    "b[0] += 10**(-3)\n",
    "#print('b error:')\n",
    "#print(b_err)\n",
    "#print()"
   ]
  },
  {
   "cell_type": "code",
   "execution_count": 11,
   "metadata": {},
   "outputs": [],
   "source": [
    "# LU mods A\n",
    "def Solve_LU(A, b):\n",
    "    n = A.shape[0]\n",
    "    L = np.eye(n)\n",
    "    for j in range(n):\n",
    "        for i in range(j + 1, n):\n",
    "            L[i][j] = A[i][j] / A[j][j]\n",
    "            for k in range(j, n):\n",
    "                A[i][k] -= L[i][j] * A[j][k]\n",
    "    x = np.zeros(n)\n",
    "    y = np.zeros(n)\n",
    "    \n",
    "    for i in range(n):\n",
    "        summ = 0\n",
    "        for j in range(i):\n",
    "            summ += L[i][j] * y[j]\n",
    "        y[i] = b[i] - summ\n",
    "    for i in reversed(range(n)):\n",
    "        summ = 0\n",
    "        for j in reversed(range(i + 1, n)):\n",
    "            summ += A[i][j] * x[j]\n",
    "        x[i] = (y[i] - summ) / A[i][i]\n",
    "    return x\n",
    "\n",
    "#LU patrial choice creates LU without mod A\n",
    "def Get_LUP(A):\n",
    "    n = A.shape[0]\n",
    "    L = np.eye(n)\n",
    "    P = np.eye(n)\n",
    "    U = np.copy(A)\n",
    "    for j in range(n - 1):\n",
    "        max_abs = abs(U[j][j])\n",
    "        max_i = j\n",
    "        for i in range(j + 1, n):\n",
    "            if (abs(U[i][j]) > max_abs):\n",
    "                max_abs = abs(U[i][j])\n",
    "                max_i = i\n",
    "        P_j = np.eye(n)\n",
    "        if (max_i != j):\n",
    "            P_j[j][j] = 0\n",
    "            P_j[max_i][max_i] = 0\n",
    "            P_j[max_i][j] = 1\n",
    "            P_j[j][max_i] = 1\n",
    "        L_j = np.eye(n)\n",
    "        U = P_j @ U\n",
    "        for i in range(j + 1, n):\n",
    "            L_j[i][j] = -1 * U[i][j] / U[j][j]\n",
    "        U = L_j @ U\n",
    "        for i in range(j + 1, n):\n",
    "            L_j[i][j] *= -1\n",
    "        L = L @ P_j @ L_j\n",
    "        P = P_j @ P\n",
    "    L = P @ L    \n",
    "    return L, U, P\n",
    "\n",
    "# Solves by LU\n",
    "def Solve_LUP(L, U, P, b):\n",
    "    b = P @ b\n",
    "    n = L.shape[0]\n",
    "    x = np.zeros(n)\n",
    "    y = np.zeros(n)\n",
    "    \n",
    "    for i in range(n):\n",
    "        summ = 0\n",
    "        for j in range(i):\n",
    "            summ += L[i][j] * y[j]\n",
    "        y[i] = b[i] - summ\n",
    "    for i in reversed(range(n)):\n",
    "        summ = 0\n",
    "        for j in reversed(range(i + 1, n)):\n",
    "            summ += U[i][j] * x[j]\n",
    "        x[i] = (y[i] - summ) / U[i][i]\n",
    "    return x"
   ]
  },
  {
   "cell_type": "code",
   "execution_count": 13,
   "metadata": {},
   "outputs": [
    {
     "name": "stdout",
     "output_type": "stream",
     "text": [
      "[  1.00000002  53.24303966 -45.92638457  48.11940406   3.56392343]\n",
      "[  1.00000002  53.24304047 -45.92638689  48.11940626   3.56392273]\n"
     ]
    }
   ],
   "source": [
    "L1, U1, P1 = Get_LUP(A_err)\n",
    "x1 = Solve_LUP(L1, U1, P1, b)\n",
    "x2 = Solve_LU(A_err, b)\n",
    "# Т.к. функция меняет A_err, то мы её восстановим\n",
    "A_err = np.copy(A)\n",
    "A_err[0][0] += 10**(-3)\n",
    "print(x1)\n",
    "print(x2)"
   ]
  },
  {
   "cell_type": "code",
   "execution_count": 14,
   "metadata": {},
   "outputs": [
    {
     "name": "stdout",
     "output_type": "stream",
     "text": [
      "Cond A_err:  53216503903.95434\n",
      "Theoretic delta x:  1595646476.3732166\n",
      "Current delta x for LU:  0.9492138555407815\n",
      "Current delta x for LUP:  0.9492138519051789\n"
     ]
    }
   ],
   "source": [
    "def delta_x(x, x_err):\n",
    "    return np.linalg.norm(x - x_err, ord = 2) / np.linalg.norm(x_err, ord = 2)\n",
    "\n",
    "def delta_x_th(A_err):\n",
    "    return np.linalg.cond(A_err) * 10**(-3) / np.linalg.norm(A_err, ord = 2)\n",
    "\n",
    "print('Cond A_err: ', np.linalg.cond(A_err))\n",
    "print('Theoretic delta x: ', delta_x_th(A_err))\n",
    "print('Current delta x for LU: ', delta_x(x, x2))\n",
    "print('Current delta x for LUP: ', delta_x(x, x1))"
   ]
  },
  {
   "cell_type": "code",
   "execution_count": 15,
   "metadata": {},
   "outputs": [
    {
     "name": "stdout",
     "output_type": "stream",
     "text": [
      "[0.9492138519051789, 0.9792839631133177, 0.9918460005417629, 0.9962665790138961, 0.9999991476860036, 0.9909944425517689, 0.9969765455084291, 0.9976440626768303, 0.9985879537811344, 0.9999952221724573, 0.9998418484434299]\n",
      "[0.9492138555407815, 0.9792842976710908, 0.9917911344995493, 0.9967943540706182, 0.9950621696822688, 0.9974909029830452, 0.9997383719143493, 0.9984977238719348, 0.9998935342271366, 0.9987372571824021, 0.9992862591740301]\n"
     ]
    }
   ],
   "source": [
    "delta_x1 = []\n",
    "delta_x2 = []\n",
    "for n in range(5, 16):\n",
    "    # matrix A\n",
    "    A = np.fromfunction(lambda i, j: (1 / (70 - 3*i - j)), (n, n))\n",
    "\n",
    "    # matrix A error\n",
    "    A_err = np.copy(A)\n",
    "    A_err[0][0] += 10**(-3)\n",
    "\n",
    "    # vector x\n",
    "    x = np.array([12] * n)\n",
    "\n",
    "    # vector b\n",
    "    b = A @ x\n",
    "\n",
    "    # vector b error\n",
    "    b_err = b\n",
    "    b[0] += 10**(-3)\n",
    "    \n",
    "    L1, U1, P1 = Get_LUP(A_err)\n",
    "    x1 = Solve_LUP(L1, U1, P1, b)\n",
    "    x2 = Solve_LU(A_err, b)\n",
    "    delta_x1.append(delta_x(x, x1))\n",
    "    delta_x2.append(delta_x(x, x2))\n",
    "print(delta_x1)\n",
    "print(delta_x2)"
   ]
  },
  {
   "cell_type": "code",
   "execution_count": 16,
   "metadata": {},
   "outputs": [
    {
     "data": {
      "text/plain": [
       "<matplotlib.legend.Legend at 0x212ebb56910>"
      ]
     },
     "execution_count": 16,
     "metadata": {},
     "output_type": "execute_result"
    },
    {
     "data": {
      "image/png": "[encoded data removed]",
      "text/plain": [
       "<Figure size 432x288 with 1 Axes>"
      ]
     },
     "metadata": {
      "needs_background": "light"
     },
     "output_type": "display_data"
    }
   ],
   "source": [
    "import matplotlib.pyplot as plty\n",
    "\n",
    "plty.plot(range(5, 16), delta_x1, color = 'red', label = 'Частичного выбора')\n",
    "plty.plot(range(5, 16), delta_x2, color = 'blue', label = 'Ед. деления')\n",
    "plty.legend()"
   ]
  },
  {
   "cell_type": "code",
   "execution_count": 27,
   "metadata": {},
   "outputs": [
    {
     "name": "stdout",
     "output_type": "stream",
     "text": [
      "b:  [0, 29, 56, 81, 104, 125, 144, 161, 176, 189, 200, 209, 216, 221, 224, 225, 224, 221, 216, 209, 200, 189, 176, 161, 144, 125, 104, 81, 56, 29]\n",
      "\n",
      "Test:  [5.0, 5.0, 5.0, 5.0, 5.0, 5.0, 5.0, 5.0, 10.0, 10.0, 10.0, 10.0, 10.0, 10.0, 10.0, 10.0, 15.0, 15.0, 15.0, 15.0, 15.0, 15.0, 15.0, 15.0, 20.0, 25.0, 25.0, 25.0, 25.0, 25.0]\n",
      "\n",
      "X:  [0.0, 0.19333333333333333, 0.37333333333333335, 0.54, 0.6933333333333334, 0.8333333333333334, 0.96, 1.0733333333333333, 1.1733333333333333, 1.2406666666666666, 1.296, 1.3393333333333333, 1.3706666666666667, 1.39, 1.3973333333333333, 1.3926666666666667, 1.3760000000000001, 1.3492666666666666, 1.3104, 1.2594, 1.1962666666666666, 1.121, 1.0335999999999999, 0.9340666666666667, 0.8224, 0.6984066666666666, 0.5107377777777777, 0.31450444444444436, 0.10970666666666663, -0.10365555555555557]\n",
      "\n"
     ]
    }
   ],
   "source": [
    "# главная диагональ = 150\n",
    "# 8 поддиаг = 15\n",
    "# 25 поддиаг = 40\n",
    "# n = 30\n",
    "# b_i = ni - i^2\n",
    "\n",
    "def Solve_Bash(a, c, d, b):\n",
    "    x = []\n",
    "    for i in range(0, 8):\n",
    "        x.append(b[i] / a)\n",
    "    for i in range(8, 25):\n",
    "        x.append((b[i] - c * x[i - 8]) / a)\n",
    "    for i in range(25, 30):\n",
    "        x.append((b[i] - c * x[i - 8] - d * x[i - 25]) / a)\n",
    "    return x\n",
    "\n",
    "b = []\n",
    "for i in range(30):\n",
    "    b.append(30*i - i*i)\n",
    "print('b: ', b)\n",
    "print()\n",
    "#Тестовый пример, a = 1, c = -1, d = -1\n",
    "b_test = np.array([5]*30)\n",
    "print('Test: ', Solve_Bash(1.0, -1.0, -1.0, b_test))\n",
    "print()\n",
    "#Задача, a = 150, c = 15, d = 40\n",
    "print('X: ', Solve_Bash(150.0, 15.0, 40.0, b))\n",
    "print()"
   ]
  },
  {
   "cell_type": "code",
   "execution_count": 25,
   "metadata": {},
   "outputs": [
    {
     "name": "stdout",
     "output_type": "stream",
     "text": [
      "x:\n",
      "[12 12 12 12 12 12 12 12 12 12 12 12 12 12 12 12 12 12 12 12 12 12 12 12\n",
      " 12]\n",
      "\n",
      "b:\n",
      "[2453.77442914 3104.92032431 3137.34767907 3137.57620322 3137.57863047\n",
      " 3137.57094936 3137.56042103 3137.5567252  3137.5632598  3137.57401695\n",
      " 3137.57910657 3137.5738493  3137.56307863 3137.55669708 3137.56057181\n",
      " 3137.57114041 3137.57868616 3137.57627153 3137.56611653 3137.5575576\n",
      " 3137.55846378 3137.56780275 3137.35876819 3104.94070772 2453.78536643]\n",
      "\n"
     ]
    }
   ],
   "source": [
    "# m = 25, N = 12\n",
    "import math\n",
    "m = 25\n",
    "N = 12\n",
    "beta = (abs(66 - N) + 5) * m\n",
    "\n",
    "A = np.array([[0.1 * beta * np.math.exp((-1) * (i - j)**2) + np.math.cos(i + j)/(0.1*beta) for j in range(m)] for i in range(m)])\n",
    "\n",
    "# vector x\n",
    "x = np.array([12] * m)\n",
    "print('x:')\n",
    "print(x)\n",
    "print()\n",
    "\n",
    "# vector b\n",
    "b = A @ x\n",
    "print('b:')\n",
    "print(b)\n",
    "print()"
   ]
  },
  {
   "cell_type": "code",
   "execution_count": 24,
   "metadata": {},
   "outputs": [
    {
     "name": "stdout",
     "output_type": "stream",
     "text": [
      "[12. 12. 12. 12. 12. 12. 12. 12. 12. 12. 12. 12. 12. 12. 12. 12. 12. 12.\n",
      " 12. 12. 12. 12. 12. 12. 12.]\n"
     ]
    }
   ],
   "source": [
    "def ConjGradMethod(A, b, m, eps) :\n",
    "    x = np.zeros(m)\n",
    "    r_prev = b - (A @ x)\n",
    "    z = r_prev\n",
    "    check = np.linalg.norm(r_prev, ord = 2)/np.linalg.norm(b, ord = 2)\n",
    "    while check >= eps:\n",
    "        a = np.dot(r_prev, r_prev)/np.dot(A @ z, z)\n",
    "        x = x + a * z\n",
    "        r_new = r_prev - a * (A @ z)\n",
    "        bet = np.dot(r_new, r_new)/np.dot(r_prev, r_prev)\n",
    "        z = r_new + bet * z\n",
    "        r_prev = r_new\n",
    "        check = np.linalg.norm(r_prev, ord = 2)/np.linalg.norm(b, ord = 2)\n",
    "    return x\n",
    "\n",
    "print(ConjGradMethod(A, b, m, 10**(-10)))"
   ]
  },
  {
   "cell_type": "code",
   "execution_count": null,
   "metadata": {},
   "outputs": [],
   "source": []
  }
 ],
 "metadata": {
  "kernelspec": {
   "display_name": "Python 3",
   "language": "python",
   "name": "python3"
  },
  "language_info": {
   "codemirror_mode": {
    "name": "ipython",
    "version": 3
   },
   "file_extension": ".py",
   "mimetype": "text/x-python",
   "name": "python",
   "nbconvert_exporter": "python",
   "pygments_lexer": "ipython3",
   "version": "3.8.5"
  }
 },
 "nbformat": 4,
 "nbformat_minor": 4
}
