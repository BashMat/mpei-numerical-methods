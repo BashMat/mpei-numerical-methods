{
 "cells": [
  {
   "cell_type": "markdown",
   "id": "d0ae2b44",
   "metadata": {},
   "source": [
    "# Лабораторная работа №8.\n",
    "# РЕШЕНИЕ КРАЕВЫХ ЗАДАЧ\n",
    "# Вариант 27\n",
    "\n",
    "Работа студента группы А-13а-19\n",
    "\n",
    "Башлыкова Матвея\n",
    "\n",
    "**Задача 8.1.**\n",
    "\n",
    "Найти аналитическое и приближенное решения краевой задачи\n",
    "\n",
    "$$\n",
    "\\begin{cases} -u'' + pu' + qu = f(x), a <= x <= b\\\\u(a) = u_a\\\\u(b) = u_b \\end{cases}\n",
    "$$\n",
    "\n",
    "$$\n",
    "\\begin{cases} -u'' - 2u' + 8u = -5x^2 + 8x - 30, 0 <= x <= 2\\\\u(0) = -5\\\\u(2) = 0 \\end{cases}\n",
    "$$\n",
    "\n",
    "с заданным шагом h. Решение системы разностных уравнений найти c помощью метода прогонки\n",
    "                             \n",
    "**ПОРЯДОК РЕШЕНИЯ ЗАДАЧИ:**\n",
    "\n",
    "**1.** Найти аналитическое решение задачи.\n",
    "\n",
    "Найдём однородное решение:\n",
    "$$-λ^2 - 2λ + 8 = 0$$\n",
    "$$λ = 2; -4$$\n",
    "$$y_о = C_1e^{2x} + C_2e^{-4x}$$\n",
    "\n",
    "Найдём частное решение:\n",
    "$$y_{чн} = Ax^2 + Bx + C$$\n",
    "$$y_{чн}' = 2Ax + B$$\n",
    "$$y_{чн}'' = 2A$$\n",
    "$$-2A - 4Ax - 2B + 8Ax^2 + 8Bx + 8C = -5x^2 + 8x - 30$$\n",
    "$$A = -0.625$$\n",
    "$$B = 0.6875$$\n",
    "$$C = -3.734375$$\n",
    "\n",
    "Получим общее решение:\n",
    "$$y_{он} = -0.625x^2 + 0.6875x - 3.734375 + C_1e^{2x} + C_2e^{-4x}$$\n",
    "\n",
    "Найдём C_1 и C_2 из краевых условий:\n",
    "$$\n",
    "\\begin{cases} y_{он}(0) = -5\\\\y_{он}(2) = 0\\end{cases}\n",
    "$$\n",
    "\n",
    "$$\n",
    "\\begin{cases} C_1 + C_2 - 3.734375 = -5\\\\C_1e^{4} + C_2e^{-8} - 4.859375 = 0\\end{cases}\n",
    "$$\n",
    "\n",
    "$$C_1 = 0.08901088; C_2 = -1.35463588$$\n",
    "\n",
    "Аналитическое решение задачи:\n",
    "$$y_{он} = -0.625x^2 + 0.6875x - 3.734375 + 0.08901088e^{2x} + -1.35463588e^{-4x}$$"
   ]
  },
  {
   "cell_type": "markdown",
   "id": "fc9c6b3e",
   "metadata": {},
   "source": [
    "**2.** Cоставить разностную схему и выписать коэффициенты матрицы системы уравнений и коэффициенты правой части.\n",
    "\n",
    "Разностная схема:\n",
    "$$-\\frac{u_{i+1} - 2u_i + u_{i-1}}{h^2} - 2\\frac{u_{i+1} - u_{i-1}}{2h} + 8u_i = -5x_i^2 + 8x_i - 30$$\n",
    "$$u_{i-1}(-1 + h) + u_i(2 + 8h^2) + u_{i+1}(-1-h) = h^2(-5x_i^2 + 8x_i - 30)$$\n",
    "\n",
    "Имеем трёхдиагональную матрицу:\n",
    "$$\n",
    "\\left(\\begin{array}{cc} \n",
    "1 & 0 & ... & ... & 0\\\\\n",
    "... & ... & ... & ... & ...\\\\\n",
    "... & -1 + h & 2 + 8h^2 & -1-h & ...\\\\\n",
    "... & ... & ... & ... & ...\\\\\n",
    "0 & ... & ... & 0 & 1\\\\\n",
    "\\end{array}\\right)\n",
    "$$\n",
    "\n",
    "И вектор правой части:\n",
    "$$\n",
    "\\left(\\begin{array}{cc} \n",
    "-5\\\\ \n",
    "...\\\\\n",
    "h^2(-5x_i^2 + 8x_i - 30)\\\\\n",
    "...\\\\\n",
    "0\\\\\n",
    "\\end{array}\\right)\n",
    "$$ "
   ]
  },
  {
   "cell_type": "markdown",
   "id": "f67b3393",
   "metadata": {},
   "source": [
    "**3.** Найти решение задачи по разностной схеме с точностью 0.001.\n",
    "\n",
    "**4.** Построить на одном чертеже графики приближенного и аналитического решений, и график погрешности."
   ]
  },
  {
   "cell_type": "markdown",
   "id": "fa3cbc19",
   "metadata": {},
   "source": [
    "Напишем функции:"
   ]
  },
  {
   "cell_type": "code",
   "execution_count": 35,
   "id": "22093426",
   "metadata": {},
   "outputs": [],
   "source": [
    "import math\n",
    "import numpy as np\n",
    "import matplotlib.pyplot as plt\n",
    "\n",
    "# функция правой части.\n",
    "def fun(x):\n",
    "    return -5 * x**2 + 8 * x - 30\n",
    "\n",
    "# Аналитическое решение.\n",
    "def AnalyticSolution(x):\n",
    "    return -0.625*x**2 + 0.6875*x - 3.734375 + 0.08901088 * np.exp(2*x) - 1.35463588 * np.exp(-4*x)"
   ]
  },
  {
   "cell_type": "code",
   "execution_count": 38,
   "id": "260149c0",
   "metadata": {},
   "outputs": [],
   "source": [
    "# Коэффициент при u_i-1.\n",
    "def GetULeft(h):\n",
    "    return -1 + h\n",
    "\n",
    "# Коэффициент при u_i.\n",
    "def GetUCent(h):\n",
    "    return 2 + 8 * h**2\n",
    "\n",
    "# Коэффициент при u_i+1.\n",
    "def GetURight(h):\n",
    "    return -1 - h\n",
    "\n",
    "# Значение вектора.\n",
    "def GetY(h, point):\n",
    "    return h**2 * fun(point)\n",
    "\n",
    "# Получение трёхдиагональной матрицы при шаге h\n",
    "# в виде трёх массивов диагоналей\n",
    "# и вектора правой части.\n",
    "def GetTridiagonal(a, b, ua, ub, h):\n",
    "    number_of_points = int((b - a) / h) + 1\n",
    "    left = np.full(number_of_points, GetULeft(h))\n",
    "    left[0] = left[number_of_points - 1] = 0\n",
    "    cent = np.full(number_of_points, GetUCent(h))\n",
    "    cent[0] = cent[number_of_points - 1] = 1\n",
    "    right = np.full(number_of_points, GetURight(h))\n",
    "    right[0] = right[number_of_points - 1] = 0\n",
    "    points = np.zeros(number_of_points)\n",
    "    Y = np.zeros(number_of_points)\n",
    "    Y[0] = ua\n",
    "    Y[number_of_points - 1] = ub\n",
    "    points[0] = a\n",
    "    points[number_of_points - 1] = b\n",
    "    for i in range(1, number_of_points - 1):\n",
    "        points[i] = a + h * i\n",
    "        Y[i] = GetY(h, points[i])\n",
    "    return points, left, cent, right, Y\n",
    "\n",
    "# Решение для построенной трёхдиагональной матрицы\n",
    "# и вектора правой части\n",
    "def SolveTridiagonal(left, cent, right, Y, a, b, h):\n",
    "    number_of_points = int((b - a) / h) + 1\n",
    "    alpha = np.zeros(number_of_points - 1)\n",
    "    beta = np.zeros(number_of_points - 1)\n",
    "    alpha[0] = -right[0]/cent[0]\n",
    "    beta[0] = Y[0]/cent[0]\n",
    "    \n",
    "    result = np.zeros(number_of_points)\n",
    "\n",
    "    for i in range(1, number_of_points - 1):\n",
    "        alpha[i] = -right[i]/(cent[i] + left[i] * alpha[i - 1])\n",
    "        beta[i] = (Y[i] - left[i] * beta[i - 1])/(cent[i] + left[i] * alpha[i - 1])\n",
    "    \n",
    "    result[number_of_points - 1] = (Y[number_of_points - 1] - left[number_of_points - 1] * beta[number_of_points - 2])/(cent[number_of_points - 1] + left[number_of_points - 1] * alpha[number_of_points - 2])\n",
    "    for i in reversed(range(number_of_points - 1)):\n",
    "        result[i] = result[i + 1] * alpha[i] + beta[i]\n",
    "    \n",
    "    return result\n",
    "\n",
    "# Функция, находящая решение для конкретного шага.\n",
    "# Строит матрицу и получает решение.\n",
    "def SolveForH(a, b, ua, ub, h):\n",
    "    points, left, cent, right, Y = GetTridiagonal(a, b, ua, ub, h)\n",
    "    return points, SolveTridiagonal(left, cent, right, Y, a, b, h)\n",
    "\n",
    "# Правило Рунге.\n",
    "def Runge(u_h, u_2h, p):\n",
    "    lim = len(u_2h)\n",
    "    res = 0\n",
    "    for i in range(lim):\n",
    "        if abs((u_h[2 * i] - u_2h[i])/(2**p - 1)) > res:\n",
    "            res = abs((u_h[2 * i] - u_2h[i])/(2**p - 1))\n",
    "    return res\n",
    "\n",
    "# Нахождение решения, удовлетворяющего точности.\n",
    "def SolveByError(a, b, ua, ub, eps):\n",
    "    h = 0.25\n",
    "    x_h, u_h = SolveForH(a, b, ua, ub, h)\n",
    "    x_2h, u_2h = SolveForH(a, b, ua, ub, 2 * h)\n",
    "    while(Runge(u_h, u_2h, 2) >= eps):\n",
    "        h /= 2\n",
    "        x_2h, u_2h = x_h, u_h\n",
    "        x_h, u_h = SolveForH(a, b, ua, ub, h)\n",
    "    h /= 2\n",
    "    x_h, u_h = SolveForH(a, b, ua, ub, h)\n",
    "    return x_h, u_h"
   ]
  },
  {
   "cell_type": "code",
   "execution_count": 39,
   "id": "a2a5e93d",
   "metadata": {},
   "outputs": [
    {
     "data": {
      "image/png": "[encoded data removed]",
      "text/plain": [
       "<Figure size 432x288 with 1 Axes>"
      ]
     },
     "metadata": {
      "needs_background": "light"
     },
     "output_type": "display_data"
    }
   ],
   "source": [
    "# Зададим коэффициенты варианта\n",
    "a = 0\n",
    "b = 2\n",
    "p = -2\n",
    "q = 8\n",
    "u_a = -5\n",
    "u_b = 0\n",
    "eps = 0.001\n",
    "\n",
    "# Найдём решение и построим графики:\n",
    "x_h, u_h = SolveByError(a, b, u_a, u_b, eps)\n",
    "analytic = AnalyticSolution(x_h)\n",
    "plt.plot(x_h, abs(u_h - analytic), color = 'red', label = 'error')\n",
    "plt.legend()\n",
    "plt.grid()\n",
    "plt.show()"
   ]
  },
  {
   "cell_type": "markdown",
   "id": "34c3ada2",
   "metadata": {},
   "source": [
    "Таким образом, мы получили решение, которое даёт погрешность меньше 0.001."
   ]
  },
  {
   "cell_type": "code",
   "execution_count": 40,
   "id": "9a32af80",
   "metadata": {},
   "outputs": [
    {
     "data": {
      "image/png": "[encoded data removed]",
      "text/plain": [
       "<Figure size 432x288 with 1 Axes>"
      ]
     },
     "metadata": {
      "needs_background": "light"
     },
     "output_type": "display_data"
    }
   ],
   "source": [
    "plt.plot(x_h, analytic, color = 'red', label = 'Analytic')\n",
    "plt.plot(x_h, u_h, color = 'blue', label = 'u_h')\n",
    "plt.legend()\n",
    "plt.grid()\n",
    "plt.show()"
   ]
  },
  {
   "cell_type": "markdown",
   "id": "46f54768",
   "metadata": {},
   "source": [
    "Как мы видим, графики аналитического решения и приближённого визуально совпали"
   ]
  },
  {
   "cell_type": "markdown",
   "id": "88996b2d",
   "metadata": {},
   "source": [
    "**Задача 8.2.** Стержень составляется из трех частей одинаковой длины 1 и с разными коэффициентами теплопроводности. Концы стержня поддерживаются при постоянной температуре. В каком порядке следует составить части стержня, чтобы указанная точка x0 стержня имела максимальную температуру?\n",
    "\n",
    "Математически задача формулируется следующим образом: найти приближенное решение краевой задачи\n",
    "\n",
    "$$\n",
    "\\begin{cases} -(k(x)u')' + qu = f(x), a <= x <= b\\\\u(a) = u_a\\\\u(b) = u_b \\end{cases}\n",
    "$$\n",
    "\n",
    "$$\n",
    "k(x) = \\begin{cases} k_1(x), 0 <= x <= 1\\\\k_2(x), 1 < x <= 2\\\\k_3(x), 2 < x <= 3 \\end{cases}\n",
    "$$\n",
    "\n",
    "при каждой конфигурации стержня. Значения q и f(x) из 8.1\n",
    "\n",
    "Сравнить полученные значения температуры в фиксированной точке в каждом варианте. Выбрать оптимальный результат."
   ]
  },
  {
   "cell_type": "markdown",
   "id": "d334096d",
   "metadata": {},
   "source": [
    "Подставив значения для варианта, получим:\n",
    "\n",
    "$$\n",
    "\\begin{cases} -(k(x)u')' + 8u = -5x^2 + 8x - 30, 0 <= x <= 3\\\\u(0) = 0\\\\u(3) = 0 \\end{cases}\n",
    "$$\n",
    "\n",
    "$$\n",
    "k(x) = \\begin{cases} 19, 0 <= x <= 1\\\\x + 3.5, 1 < x <= 2\\\\x^{1/3} + 0.2, 2 < x <= 3 \\end{cases}\n",
    "$$\n",
    "\n",
    "Сравнивать значения температуры будем в точке $$x_0 = 0.7$$"
   ]
  },
  {
   "cell_type": "markdown",
   "id": "253291c3",
   "metadata": {},
   "source": [
    "**1.** Составить подпрограмму, вычисляющую функцию из индивидуального варианта.\n",
    "\n",
    "Составим подпрограммы для вычисления k(x), а также подпрограммы, необходимые для нахождения решения."
   ]
  },
  {
   "cell_type": "code",
   "execution_count": 43,
   "id": "f964686f",
   "metadata": {},
   "outputs": [],
   "source": [
    "# 8.2.27\n",
    "\n",
    "def k1(x):\n",
    "    return 19\n",
    "\n",
    "def k2(x):\n",
    "    return x + 3.5\n",
    "\n",
    "def k3(x):\n",
    "    return x**(1/3.0) + 0.2\n",
    "\n",
    "# При передаче функций в нужном порядке генерируем\n",
    "# нужную конфигурацию функции k(x)\n",
    "def kForInterval(k_1, k_2, k_3, x):\n",
    "    if 0 <= x and x <= 1:\n",
    "        return k_1(x)\n",
    "    elif 1 < x and x <= 2:\n",
    "        return k_2(x)\n",
    "    else:\n",
    "        return k_3(x)\n",
    "\n",
    "# Немного переделали прошлую функцию, т.к. теперь у нас значения\n",
    "# в диагоналях не одинаковы.\n",
    "def GetTridiagonal_2(a, b, ua, ub, h, k_1, k_2, k_3):\n",
    "    number_of_points = int((b - a) / h) + 1\n",
    "    left = np.zeros(number_of_points)\n",
    "    left[0] = left[number_of_points - 1] = 0\n",
    "    cent = np.zeros(number_of_points)\n",
    "    cent[0] = cent[number_of_points - 1] = 1\n",
    "    right = np.zeros(number_of_points)\n",
    "    right[0] = right[number_of_points - 1] = 0\n",
    "    points = np.zeros(number_of_points)\n",
    "    Y = np.zeros(number_of_points)\n",
    "    Y[0] = ua\n",
    "    Y[number_of_points - 1] = ub\n",
    "    points[0] = a\n",
    "    points[number_of_points - 1] = b\n",
    "    for i in range(1, number_of_points - 1):\n",
    "        points[i] = a + h * i\n",
    "        left[i] = -1 * kForInterval(k_1, k_2, k_3, points[i] - h/2)\n",
    "        cent[i] = 8 * h**2 + kForInterval(k_1, k_2, k_3, points[i] - h/2) + kForInterval(k_1, k_2, k_3, points[i] + h/2)\n",
    "        right[i] = -1 * kForInterval(k_1, k_2, k_3, points[i] + h/2)\n",
    "        Y[i] = GetY(h, points[i])\n",
    "    return points, left, cent, right, Y\n",
    "\n",
    "# Соответсвенно переделали и эту функцию.\n",
    "def SolveForH_2(a, b, ua, ub, h, k_1, k_2, k_3):\n",
    "    points, left, cent, right, Y = GetTridiagonal_2(a, b, ua, ub, h, k_1, k_2, k_3)\n",
    "    return points, SolveTridiagonal(left, cent, right, Y, a, b, h)"
   ]
  },
  {
   "cell_type": "markdown",
   "id": "03ce5f94",
   "metadata": {},
   "source": [
    "**2.** Для каждого варианта конфигурации стержня произвести расчет по разностной схеме с шагом\n",
    "\n",
    "**3.** Построить на одном чертеже графики приближенного решения для каждой конфигурации стержня."
   ]
  },
  {
   "cell_type": "code",
   "execution_count": 44,
   "id": "fa4086c5",
   "metadata": {},
   "outputs": [
    {
     "data": {
      "image/png": "[encoded data removed]",
      "text/plain": [
       "<Figure size 432x288 with 1 Axes>"
      ]
     },
     "metadata": {
      "needs_background": "light"
     },
     "output_type": "display_data"
    }
   ],
   "source": [
    "a_2 = 0\n",
    "b_2 = 3\n",
    "u_a_2 = 0\n",
    "u_b_2 = 0\n",
    "h_2 = (b_2 - a_2) / 100\n",
    "\n",
    "x_h_2, u_h_123 = SolveForH_2(a_2, b_2, u_a_2, u_b_2, h_2, k1, k2, k3)\n",
    "x_h_2, u_h_132 = SolveForH_2(a_2, b_2, u_a_2, u_b_2, h_2, k1, k3, k2)\n",
    "x_h_2, u_h_213 = SolveForH_2(a_2, b_2, u_a_2, u_b_2, h_2, k2, k1, k3)\n",
    "x_h_2, u_h_231 = SolveForH_2(a_2, b_2, u_a_2, u_b_2, h_2, k2, k3, k1)\n",
    "x_h_2, u_h_312 = SolveForH_2(a_2, b_2, u_a_2, u_b_2, h_2, k3, k1, k2)\n",
    "x_h_2, u_h_321 = SolveForH_2(a_2, b_2, u_a_2, u_b_2, h_2, k3, k2, k1)\n",
    "#analytic = AnalyticSolution(x_h)\n",
    "#print(abs(u_h[0] - analytic[0]))\n",
    "#print(u_h[0])\n",
    "#print(analytic[0])\n",
    "plt.plot(x_h_2, u_h_123, color = 'red', label = '123')\n",
    "plt.plot(x_h_2, u_h_132, color = 'orange', label = '132')\n",
    "plt.plot(x_h_2, u_h_213, color = 'yellow', label = '213')\n",
    "plt.plot(x_h_2, u_h_231, color = 'green', label = '231')\n",
    "plt.plot(x_h_2, u_h_312, color = 'blue', label = '312')\n",
    "plt.plot(x_h_2, u_h_321, color = 'purple', label = '321')\n",
    "plt.legend()\n",
    "plt.grid()\n",
    "plt.show()"
   ]
  },
  {
   "cell_type": "markdown",
   "id": "6f45401a",
   "metadata": {},
   "source": [
    "**4.** Сравнив полученные решения, выбрать оптимальный результат."
   ]
  },
  {
   "cell_type": "markdown",
   "id": "0a6ee7fd",
   "metadata": {},
   "source": [
    "Как мы видим, среди наших графиков график конфигурации 132 расположен выше остальных в промежутке $$[0.5, 1.0]$$, следовательно и в самой точке $$x_0 = 0.7$$ для данной конфигурации температура будет максимальна.\n",
    "\n",
    "Следовательно, имеем функцию распределения коэффициентов теплопроводности:\n",
    "\n",
    "$$\n",
    "k(x) = \\begin{cases} 19, 0 <= x <= 1\\\\x^{1/3} + 0.2, 1 < x <= 2\\\\x + 3.5, 2 < x <= 3 \\end{cases}\n",
    "$$"
   ]
  },
  {
   "cell_type": "markdown",
   "id": "0e72fe30",
   "metadata": {},
   "source": [
    "### Итог\n",
    "\n",
    "**1.** Мы решили краевую задачу аналитически и методом конечных разностей с использованием метода прогонки и нам удалось достичь требуемой точности.\n",
    "\n",
    "**2.** Аналогично, применили метод прогонки для решения краевой задачи для уравнения с переменным коэффициентом теплопроводности. Проверив различные конфигурации, мы нашли оптимальный результат."
   ]
  },
  {
   "cell_type": "code",
   "execution_count": null,
   "id": "2900a001",
   "metadata": {},
   "outputs": [],
   "source": []
  }
 ],
 "metadata": {
  "kernelspec": {
   "display_name": "Python 3",
   "language": "python",
   "name": "python3"
  },
  "language_info": {
   "codemirror_mode": {
    "name": "ipython",
    "version": 3
   },
   "file_extension": ".py",
   "mimetype": "text/x-python",
   "name": "python",
   "nbconvert_exporter": "python",
   "pygments_lexer": "ipython3",
   "version": "3.8.8"
  }
 },
 "nbformat": 4,
 "nbformat_minor": 5
}
